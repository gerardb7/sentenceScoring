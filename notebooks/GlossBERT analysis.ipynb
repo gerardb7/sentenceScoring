{
 "cells": [
  {
   "cell_type": "markdown",
   "metadata": {},
   "source": [
    "Load results file with pandas"
   ]
  },
  {
   "cell_type": "code",
   "execution_count": 4,
   "metadata": {},
   "outputs": [],
   "source": [
    "import pandas as pd\n",
    "import numpy as np\n",
    "\n",
    "df = pd.read_csv('/home/gerard/ownCloud/varis_tesi/WSD_Evaluation_Framework/Evaluation_Datasets/senseval2/results.txt', sep='\\t')"
   ]
  },
  {
   "cell_type": "code",
   "execution_count": 107,
   "metadata": {},
   "outputs": [
    {
     "data": {
      "text/html": [
       "<div>\n",
       "<style scoped>\n",
       "    .dataframe tbody tr th:only-of-type {\n",
       "        vertical-align: middle;\n",
       "    }\n",
       "\n",
       "    .dataframe tbody tr th {\n",
       "        vertical-align: top;\n",
       "    }\n",
       "\n",
       "    .dataframe thead th {\n",
       "        text-align: right;\n",
       "    }\n",
       "</style>\n",
       "<table border=\"1\" class=\"dataframe\">\n",
       "  <thead>\n",
       "    <tr style=\"text-align: right;\">\n",
       "      <th></th>\n",
       "      <th>mention</th>\n",
       "      <th>candidate</th>\n",
       "      <th>gold</th>\n",
       "      <th>system</th>\n",
       "      <th>bias</th>\n",
       "      <th>rank</th>\n",
       "      <th>tp</th>\n",
       "      <th>fp</th>\n",
       "      <th>fn</th>\n",
       "      <th>tn</th>\n",
       "    </tr>\n",
       "  </thead>\n",
       "  <tbody>\n",
       "    <tr>\n",
       "      <th>0</th>\n",
       "      <td>d000.s000.t000_(1,2)_art</td>\n",
       "      <td>2743547</td>\n",
       "      <td>0</td>\n",
       "      <td>0</td>\n",
       "      <td>0.0029</td>\n",
       "      <td>0.8811</td>\n",
       "      <td>False</td>\n",
       "      <td>False</td>\n",
       "      <td>False</td>\n",
       "      <td>True</td>\n",
       "    </tr>\n",
       "    <tr>\n",
       "      <th>1</th>\n",
       "      <td>d000.s000.t000_(1,2)_art</td>\n",
       "      <td>933420</td>\n",
       "      <td>0</td>\n",
       "      <td>1</td>\n",
       "      <td>0.6986</td>\n",
       "      <td>0.7873</td>\n",
       "      <td>False</td>\n",
       "      <td>True</td>\n",
       "      <td>False</td>\n",
       "      <td>False</td>\n",
       "    </tr>\n",
       "    <tr>\n",
       "      <th>2</th>\n",
       "      <td>d000.s000.t000_(1,2)_art</td>\n",
       "      <td>5638987</td>\n",
       "      <td>1</td>\n",
       "      <td>0</td>\n",
       "      <td>0.6981</td>\n",
       "      <td>0.8035</td>\n",
       "      <td>False</td>\n",
       "      <td>False</td>\n",
       "      <td>True</td>\n",
       "      <td>False</td>\n",
       "    </tr>\n",
       "    <tr>\n",
       "      <th>3</th>\n",
       "      <td>d000.s000.t000_(1,2)_art</td>\n",
       "      <td>6998748</td>\n",
       "      <td>0</td>\n",
       "      <td>0</td>\n",
       "      <td>0.0001</td>\n",
       "      <td>0.5335</td>\n",
       "      <td>False</td>\n",
       "      <td>False</td>\n",
       "      <td>False</td>\n",
       "      <td>True</td>\n",
       "    </tr>\n",
       "    <tr>\n",
       "      <th>4</th>\n",
       "      <td>d000.s000.t001_(3,4)_change-ringing</td>\n",
       "      <td>544605</td>\n",
       "      <td>1</td>\n",
       "      <td>1</td>\n",
       "      <td>0.9997</td>\n",
       "      <td>0.9309</td>\n",
       "      <td>True</td>\n",
       "      <td>False</td>\n",
       "      <td>False</td>\n",
       "      <td>False</td>\n",
       "    </tr>\n",
       "  </tbody>\n",
       "</table>\n",
       "</div>"
      ],
      "text/plain": [
       "                               mention  candidate  gold  system    bias  \\\n",
       "0             d000.s000.t000_(1,2)_art    2743547     0       0  0.0029   \n",
       "1             d000.s000.t000_(1,2)_art     933420     0       1  0.6986   \n",
       "2             d000.s000.t000_(1,2)_art    5638987     1       0  0.6981   \n",
       "3             d000.s000.t000_(1,2)_art    6998748     0       0  0.0001   \n",
       "4  d000.s000.t001_(3,4)_change-ringing     544605     1       1  0.9997   \n",
       "\n",
       "     rank     tp     fp     fn     tn  \n",
       "0  0.8811  False  False  False   True  \n",
       "1  0.7873  False   True  False  False  \n",
       "2  0.8035  False  False   True  False  \n",
       "3  0.5335  False  False  False   True  \n",
       "4  0.9309   True  False  False  False  "
      ]
     },
     "execution_count": 107,
     "metadata": {},
     "output_type": "execute_result"
    }
   ],
   "source": [
    "df = df.assign(tp=(df['system'] == 1) & (df['gold'] == 1))\n",
    "df = df.assign(fp=(df['system'] == 1) & (df['gold'] == 0))\n",
    "df = df.assign(fn=(df['system'] == 0) & (df['gold'] == 1))\n",
    "df = df.assign(tn=(df['system'] == 0) & (df['gold'] == 0))\n",
    "df.head()\n"
   ]
  },
  {
   "cell_type": "code",
   "execution_count": 165,
   "metadata": {},
   "outputs": [
    {
     "name": "stdout",
     "output_type": "stream",
     "text": [
      "                                     max_scores  mentions_tp     binned_scores\n",
      "mention                                                                       \n",
      "d000.s000.t000_(1,2)_art                 0.6986            0  (0.6886, 0.8873]\n",
      "d000.s000.t001_(3,4)_change-ringing      0.9997            1  (0.9996, 0.9998]\n",
      "d000.s000.t002_(5,6)_peculiar            0.8754            1  (0.6886, 0.8873]\n",
      "d000.s000.t003_(8,9)_English             0.6623            1  (0.1865, 0.6886]\n",
      "d000.s000.t004_(13,14)_most              0.9979            1  (0.9977, 0.9987]\n",
      "\n",
      "(0.9999, 1.0]         351\n",
      "(0.9998, 0.9999]      147\n",
      "(0.9992, 0.9996]      141\n",
      "(0.9996, 0.9998]      137\n",
      "(0.9961, 0.9977]      117\n",
      "(0.9935, 0.9961]      114\n",
      "(0.8873, 0.9454]      113\n",
      "(0.9977, 0.9987]      113\n",
      "(0.02178, 0.1865]     112\n",
      "(0.6886, 0.8873]      112\n",
      "(0.9897, 0.9935]      112\n",
      "(-0.0001, 0.02178]    112\n",
      "(0.9454, 0.968]       111\n",
      "(0.968, 0.9826]       111\n",
      "(0.9826, 0.9897]      111\n",
      "(0.1865, 0.6886]      111\n",
      "(0.9987, 0.9992]      108\n",
      "Name: binned_scores, dtype: int64\n",
      "\n",
      "binned_scores\n",
      "(-0.0001, 0.02178]    0.589286\n",
      "(0.02178, 0.1865]     0.544643\n",
      "(0.1865, 0.6886]      0.585586\n",
      "(0.6886, 0.8873]      0.580357\n",
      "(0.8873, 0.9454]      0.584071\n",
      "(0.9454, 0.968]       0.666667\n",
      "(0.968, 0.9826]       0.693694\n",
      "(0.9826, 0.9897]      0.702703\n",
      "(0.9897, 0.9935]      0.642857\n",
      "(0.9935, 0.9961]      0.701754\n",
      "(0.9961, 0.9977]      0.820513\n",
      "(0.9977, 0.9987]      0.893805\n",
      "(0.9987, 0.9992]      0.824074\n",
      "(0.9992, 0.9996]      0.936170\n",
      "(0.9996, 0.9998]      0.927007\n",
      "(0.9998, 0.9999]      0.965986\n",
      "(0.9999, 1.0]         0.957265\n",
      "Name: mentions_tp, dtype: float64\n"
     ]
    }
   ],
   "source": [
    "# group rows by mention and, for each mention, get maximum score and a flag indicating if one of the mention senses is a true positive\n",
    "mention_groups = df.groupby('mention')\n",
    "mentions2scores = mention_groups['bias'].max()\n",
    "mentions2tp = mention_groups['tp'].agg(any).astype(int)\n",
    "\n",
    "mf = pd.DataFrame({'max_scores': mentions2scores, 'mentions_tp': mentions2tp})\n",
    "# group max scores into 4 bins\n",
    "mf['binned_scores'] = pd.qcut(mf['max_scores'], 20, duplicates='drop')\n",
    "\n",
    "print(mf.head())\n",
    "print()\n",
    "print(mf['binned_scores'].value_counts())\n",
    "\n",
    "binned_scores_groups = mf.groupby('binned_scores')\n",
    "tp_per_score_group = binned_scores_groups['mentions_tp'].mean()\n",
    "print()\n",
    "print(tp_per_score_group)"
   ]
  },
  {
   "cell_type": "code",
   "execution_count": 112,
   "metadata": {},
   "outputs": [
    {
     "name": "stdout",
     "output_type": "stream",
     "text": [
      "PointbiserialrResult(correlation=0.22176696461273987, pvalue=2.79528907660222e-26)\n",
      "pearson=0.22 spearman=0.35 kendall=0.29 point_biserial.correlation=0.22\n"
     ]
    }
   ],
   "source": [
    "import scipy\n",
    "\n",
    "pearson = mentions2scores.corr(mentions2tp) #Pearson's r\n",
    "spearman = mentions2scores.corr(mentions2tp, method='spearman') # Spearman's rho\n",
    "kendall = mentions2scores.corr(mentions2tp, method='kendall') # Kendall's tau\n",
    "point_biserial = scipy.stats.pointbiserialr(mentions2tp, mentions2scores) # point-biserial correlation\n",
    "pearson_numpy = np.corrcoef(mentions2tp, mentions2scores)\n",
    "\n",
    "print(f'{pearson=:.2f} {spearman=:.2f} {kendall=:.2f} {point_biserial.correlation=:.2f}')"
   ]
  },
  {
   "cell_type": "code",
   "execution_count": 59,
   "metadata": {},
   "outputs": [
    {
     "data": {
      "text/plain": [
       "'Regression line: y=0.51+0.31x, r=0.22'"
      ]
     },
     "execution_count": 59,
     "metadata": {},
     "output_type": "execute_result"
    }
   ],
   "source": []
  },
  {
   "cell_type": "code",
   "execution_count": 99,
   "metadata": {},
   "outputs": [
    {
     "data": {
      "image/png": "[encoded data removed]",
      "text/plain": [
       "<Figure size 432x288 with 1 Axes>"
      ]
     },
     "metadata": {},
     "output_type": "display_data"
    }
   ],
   "source": [
    "import matplotlib.pyplot as plt\n",
    "\n",
    "slope, intercept, r, p, stderr = scipy.stats.linregress(mentions2scores, mentions2tp)\n",
    "\n",
    "plt.style.use('ggplot')\n",
    "fig, ax = plt.subplots()\n",
    "ax.plot(mentions2scores, mentions2tp, linewidth=0, marker='s', label='Data points')\n",
    "line = f'Regression line: y={intercept:.2f}+{slope:.2f}x, r={r:.2f}'\n",
    "ax.plot(mentions2scores, intercept + slope * mentions2scores, label=line)\n",
    "ax.set_xlabel('mentions2bias')\n",
    "ax.set_ylabel('mentions2tp')\n",
    "ax.legend(facecolor='white')\n",
    "plt.show()"
   ]
  },
  {
   "cell_type": "code",
   "execution_count": 69,
   "metadata": {},
   "outputs": [
    {
     "data": {
      "image/png": "[encoded data removed]",
      "text/plain": [
       "<Figure size 432x288 with 2 Axes>"
      ]
     },
     "metadata": {},
     "output_type": "display_data"
    }
   ],
   "source": [
    "corr_matrix = np.corrcoef(mentions2bias, mentions2tp).round(decimals=2)\n",
    "fig, ax = plt.subplots()\n",
    "im = ax.imshow(corr_matrix)\n",
    "im.set_clim(-1, 1)\n",
    "ax.grid(False)\n",
    "ax.xaxis.set(ticks=(0, 1), ticklabels=('mentions2bias', 'mentions2tp'))\n",
    "ax.yaxis.set(ticks=(0, 1), ticklabels=('mentions2bias', 'mentions2tp'))\n",
    "ax.set_ylim(2.5, -0.5)\n",
    "for i in range(2):\n",
    "    for j in range(2):\n",
    "        ax.text(j, i, corr_matrix[i, j], ha='center', va='center', color='r')\n",
    "cbar = ax.figure.colorbar(im, ax=ax, format='% .2f')\n",
    "plt.show()"
   ]
  },
  {
   "cell_type": "code",
   "execution_count": null,
   "metadata": {},
   "outputs": [],
   "source": []
  }
 ],
 "metadata": {
  "kernelspec": {
   "display_name": "sbert",
   "language": "python",
   "name": "sbert"
  },
  "language_info": {
   "codemirror_mode": {
    "name": "ipython",
    "version": 3
   },
   "file_extension": ".py",
   "mimetype": "text/x-python",
   "name": "python",
   "nbconvert_exporter": "python",
   "pygments_lexer": "ipython3",
   "version": "3.8.5"
  }
 },
 "nbformat": 4,
 "nbformat_minor": 4
}
